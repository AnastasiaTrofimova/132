{
 "cells": [
  {
   "cell_type": "markdown",
   "id": "a465336c",
   "metadata": {},
   "source": [
    "# мои команды Python"
   ]
  },
  {
   "cell_type": "code",
   "execution_count": null,
   "id": "09856f2c",
   "metadata": {},
   "outputs": [],
   "source": [
    "a=2\n",
    "print (a)"
   ]
  },
  {
   "cell_type": "code",
   "execution_count": null,
   "id": "3a41df18",
   "metadata": {},
   "outputs": [],
   "source": [
    "p=int(input(\"p=\"))\n",
    "Np=(input(f\"N{p}=\"))\n"
   ]
  },
  {
   "cell_type": "code",
   "execution_count": null,
   "id": "f4e826dc",
   "metadata": {},
   "outputs": [],
   "source": [
    "K=int(1)\n",
    "N10=int(0)\n",
    "while not Np=0;\n",
    "    N10=N10+(Np%10)*k"
   ]
  },
  {
   "cell_type": "code",
   "execution_count": 18,
   "id": "8e2657d1",
   "metadata": {},
   "outputs": [
    {
     "data": {
      "text/plain": [
       "'0o21'"
      ]
     },
     "execution_count": 18,
     "metadata": {},
     "output_type": "execute_result"
    }
   ],
   "source": [
    "oct(17)"
   ]
  },
  {
   "cell_type": "code",
   "execution_count": null,
   "id": "0f49aaff",
   "metadata": {},
   "outputs": [],
   "source": [
    "abc=list('abc')\n",
    "print(abc)"
   ]
  },
  {
   "cell_type": "code",
   "execution_count": null,
   "id": "c110b939",
   "metadata": {},
   "outputs": [],
   "source": [
    "m=morze.split()\n",
    "print(m)\n",
    "print(m[0])"
   ]
  },
  {
   "cell_type": "code",
   "execution_count": null,
   "id": "d98f5ac4",
   "metadata": {},
   "outputs": [],
   "source": [
    "n=5\n",
    "string=\"Хоршего дня\"\n",
    "print(string*n) "
   ]
  },
  {
   "cell_type": "code",
   "execution_count": null,
   "id": "9c3e9007",
   "metadata": {},
   "outputs": [],
   "source": [
    "'abc'.upper()"
   ]
  },
  {
   "cell_type": "code",
   "execution_count": null,
   "id": "c1bb543a",
   "metadata": {},
   "outputs": [],
   "source": [
    "'aBc'.lower()"
   ]
  },
  {
   "cell_type": "code",
   "execution_count": null,
   "id": "08f135ae",
   "metadata": {},
   "outputs": [],
   "source": [
    "'hjdgss hca '.strip()"
   ]
  },
  {
   "cell_type": "code",
   "execution_count": null,
   "id": "aaf6b513",
   "metadata": {},
   "outputs": [],
   "source": []
  },
  {
   "cell_type": "code",
   "execution_count": null,
   "id": "0b7aa551",
   "metadata": {},
   "outputs": [],
   "source": []
  }
 ],
 "metadata": {
  "kernelspec": {
   "display_name": "Python 3 (ipykernel)",
   "language": "python",
   "name": "python3"
  },
  "language_info": {
   "codemirror_mode": {
    "name": "ipython",
    "version": 3
   },
   "file_extension": ".py",
   "mimetype": "text/x-python",
   "name": "python",
   "nbconvert_exporter": "python",
   "pygments_lexer": "ipython3",
   "version": "3.9.13"
  }
 },
 "nbformat": 4,
 "nbformat_minor": 5
}
